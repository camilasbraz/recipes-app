{
 "cells": [
  {
   "cell_type": "code",
   "execution_count": 4,
   "metadata": {},
   "outputs": [],
   "source": [
    "import os\n",
    "import urllib.parse as up\n",
    "import psycopg2\n",
    "from sqlalchemy import create_engine\n",
    "import pandas as pd\n",
    "from config import *"
   ]
  },
  {
   "cell_type": "code",
   "execution_count": 5,
   "metadata": {},
   "outputs": [
    {
     "name": "stdout",
     "output_type": "stream",
     "text": [
      "Successfully connected to the database!\n"
     ]
    }
   ],
   "source": [
    "try:\n",
    "    up.uses_netloc.append(\"postgres\")\n",
    "    url = up.urlparse(os.environ[\"DATABASE_URL\"])\n",
    "    conn = psycopg2.connect(\n",
    "        database=url.path[1:],\n",
    "        user=url.username,\n",
    "        password=url.password,\n",
    "        host=url.hostname,\n",
    "        port=url.port)\n",
    "    \n",
    "    # Create a cursor\n",
    "    cursor = conn.cursor()\n",
    "    print(\"Successfully connected to the database!\")\n",
    "    # You can now execute SQL queries using the 'cursor' object.\n",
    "\n",
    "except Exception as e:\n",
    "    print(\"Unable to connect to the database:\", e)\n"
   ]
  },
  {
   "cell_type": "markdown",
   "metadata": {},
   "source": [
    "### Create schema"
   ]
  },
  {
   "cell_type": "code",
   "execution_count": 121,
   "metadata": {},
   "outputs": [],
   "source": [
    "# Create the schema\n",
    "query = \"CREATE SCHEMA IF NOT EXISTS recipes_app;\"\n",
    "cursor.execute(query)\n"
   ]
  },
  {
   "cell_type": "markdown",
   "metadata": {},
   "source": [
    "### Create table"
   ]
  },
  {
   "cell_type": "markdown",
   "metadata": {},
   "source": [
    "#### Receitas"
   ]
  },
  {
   "cell_type": "code",
   "execution_count": 122,
   "metadata": {},
   "outputs": [],
   "source": [
    "query = '''CREATE TABLE recipes (\n",
    "    id SERIAL PRIMARY KEY,\n",
    "    name TEXT NOT NULL,\n",
    "    ingredients TEXT[] NOT NULL,\n",
    "    preparation_method TEXT[] NOT NULL,\n",
    "    preparation_time INTERVAL NOT NULL);\n",
    "'''\n",
    "cursor.execute(query)"
   ]
  },
  {
   "cell_type": "code",
   "execution_count": 130,
   "metadata": {},
   "outputs": [
    {
     "name": "stdout",
     "output_type": "stream",
     "text": [
      "[(1, 'Bolo de Chocolate', ['200g de Chocolate', '250g de Farinha'], ['1. Preaqueça o forno a 180°C.', '2. Misture o chocolate e a farinha.', '3. Asse por 30 minutos.'], datetime.timedelta(seconds=3600))]\n"
     ]
    }
   ],
   "source": [
    "query = \"SELECT * FROM recipes\"\n",
    "cursor.execute(query)\n",
    "print(cursor.fetchall())"
   ]
  },
  {
   "cell_type": "markdown",
   "metadata": {},
   "source": [
    "### Populate table"
   ]
  },
  {
   "cell_type": "markdown",
   "metadata": {},
   "source": [
    "#### Get recipes"
   ]
  },
  {
   "cell_type": "code",
   "execution_count": 123,
   "metadata": {},
   "outputs": [],
   "source": [
    "# Dados das receitas\n",
    "recipes_data = [\n",
    "    {\n",
    "        \"name\": \"Bolo de Chocolate\",\n",
    "        \"ingredients\": [\"200g de Chocolate\", \"250g de Farinha\"],\n",
    "        \"preparation_method\": [\"1. Preaqueça o forno a 180°C.\", \"2. Misture o chocolate e a farinha.\", \"3. Asse por 30 minutos.\"],\n",
    "        \"preparation_time\": \"1 hour\"\n",
    "    }\n",
    "]\n",
    "\n",
    "\n",
    "# Inserir receitas na tabela\n",
    "for recipe in recipes_data:\n",
    "    cursor.execute(\n",
    "        \"\"\"\n",
    "        INSERT INTO recipes (name, ingredients, preparation_method, preparation_time)\n",
    "        VALUES (%s, %s, %s, %s)\n",
    "        \"\"\",\n",
    "        (recipe[\"name\"],recipe[\"ingredients\"], recipe[\"preparation_method\"], recipe[\"preparation_time\"])\n",
    "    )\n"
   ]
  },
  {
   "cell_type": "markdown",
   "metadata": {},
   "source": [
    "### Commit and close the database connection"
   ]
  },
  {
   "cell_type": "code",
   "execution_count": 127,
   "metadata": {},
   "outputs": [],
   "source": [
    "conn.commit()\n",
    "conn.close()"
   ]
  },
  {
   "cell_type": "code",
   "execution_count": null,
   "metadata": {},
   "outputs": [],
   "source": [
    "## Futuro:\n",
    "\n",
    "import requests\n",
    "from bs4 import BeautifulSoup\n",
    "from psycopg2.extras import Json\n",
    "\n",
    "\n",
    "# Função para extrair informações de uma receita\n",
    "def extract_recipe_info(recipe_url):\n",
    "    response = requests.get(recipe_url)\n",
    "    soup = BeautifulSoup(response.content, 'html.parser')\n",
    "\n",
    "    # Título da receita\n",
    "    title_element = soup.find('header', class_='u-title-page')\n",
    "    print(title_element)\n",
    "    if title_element is not None:\n",
    "        title = title_element.text.strip()\n",
    "    else:\n",
    "        title = \"Título não encontrado\"\n",
    "\n",
    "    # Ingredientes da receita\n",
    "    ingredients = []\n",
    "    ingredients_elements = soup.find_all('span', class_='recipe-ingredients-item-label')\n",
    "    for ingredient_element in ingredients_elements:\n",
    "        ingredient_name_element = ingredient_element.find('span', class_='recipe-ingredients-item-label')\n",
    "        if ingredient_name_element is not None:\n",
    "            ingredient_name = ingredient_name_element.text.strip()\n",
    "            ingredients.append({\"name\": ingredient_name})\n",
    "\n",
    "    # Método de preparo\n",
    "    preparation_method_element = soup.find('li', class_='recipe-steps-item')\n",
    "    if preparation_method_element is not None:\n",
    "        preparation_method = preparation_method_element.find('div', class_='recipe-steps-text').text.strip()\n",
    "    else:\n",
    "        preparation_method = \"Método de preparo não encontrado\"\n",
    "\n",
    "    # Tempo de preparo\n",
    "    preparation_time_element = soup.find('time', datetime=True)\n",
    "    if preparation_time_element is not None:\n",
    "        preparation_time = preparation_time_element['title']\n",
    "    else:\n",
    "        preparation_time = \"Tempo de preparo não encontrado\"\n",
    "\n",
    "    return {\n",
    "        \"title\": title,\n",
    "        \"ingredients\": ingredients,\n",
    "        \"preparation_method\": preparation_method,\n",
    "        \"preparation_time\": preparation_time\n",
    "    }\n",
    "\n",
    "\n",
    "# Lista de URLs de receitas\n",
    "recipe_urls = [\n",
    "    \"https://www.tudogostoso.com.br/receita/318901-macarrao-pomodoro.html\",\n",
    "    \"https://www.tudogostoso.com.br/receita/309-lasanha-de-berinjela.html\"\n",
    "    # Insira mais URLs de receitas aqui...\n",
    "]\n",
    "\n",
    "# Extrair informações de cada receita e inserir no banco de dados\n",
    "for recipe_url in recipe_urls:\n",
    "    recipe_info = extract_recipe_info(recipe_url)\n",
    "    cursor.execute(\n",
    "        \"\"\"\n",
    "        INSERT INTO recipes (name, ingredients, preparation_method, preparation_time)\n",
    "        VALUES (%s, %s, %s, %s)\n",
    "        \"\"\",\n",
    "        (recipe_info[\"name\"], Json(recipe_info[\"ingredients\"]), recipe_info[\"preparation_method\"], recipe_info[\"preparation_time\"])\n",
    "    )"
   ]
  }
 ],
 "metadata": {
  "kernelspec": {
   "display_name": "venv",
   "language": "python",
   "name": "python3"
  },
  "language_info": {
   "codemirror_mode": {
    "name": "ipython",
    "version": 3
   },
   "file_extension": ".py",
   "mimetype": "text/x-python",
   "name": "python",
   "nbconvert_exporter": "python",
   "pygments_lexer": "ipython3",
   "version": "3.11.3"
  },
  "orig_nbformat": 4
 },
 "nbformat": 4,
 "nbformat_minor": 2
}
